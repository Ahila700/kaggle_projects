{
 "cells": [
  {
   "cell_type": "code",
   "execution_count": 1,
   "metadata": {},
   "outputs": [],
   "source": [
    "import pandas as pd\n",
    "from pandasql import sqldf\n",
    "import matplotlib.pyplot as plt\n",
    "\n",
    "%matplotlib inline"
   ]
  },
  {
   "cell_type": "code",
   "execution_count": 2,
   "metadata": {},
   "outputs": [],
   "source": [
    "poke = pd.read_csv('Pokemon.csv', index_col = 'pokedex_number')"
   ]
  },
  {
   "cell_type": "markdown",
   "metadata": {},
   "source": [
    "I want to break down the pokemon to try and find the best typings when it comes to total stats to see if pokemon are well balanced"
   ]
  },
  {
   "cell_type": "code",
   "execution_count": 3,
   "metadata": {},
   "outputs": [
    {
     "data": {
      "text/html": [
       "<div>\n",
       "<style scoped>\n",
       "    .dataframe tbody tr th:only-of-type {\n",
       "        vertical-align: middle;\n",
       "    }\n",
       "\n",
       "    .dataframe tbody tr th {\n",
       "        vertical-align: top;\n",
       "    }\n",
       "\n",
       "    .dataframe thead th {\n",
       "        text-align: right;\n",
       "    }\n",
       "</style>\n",
       "<table border=\"1\" class=\"dataframe\">\n",
       "  <thead>\n",
       "    <tr style=\"text-align: right;\">\n",
       "      <th></th>\n",
       "      <th>abilities</th>\n",
       "      <th>against_bug</th>\n",
       "      <th>against_dark</th>\n",
       "      <th>against_dragon</th>\n",
       "      <th>against_electric</th>\n",
       "      <th>against_fairy</th>\n",
       "      <th>against_fight</th>\n",
       "      <th>against_fire</th>\n",
       "      <th>against_flying</th>\n",
       "      <th>against_ghost</th>\n",
       "      <th>...</th>\n",
       "      <th>name</th>\n",
       "      <th>percentage_male</th>\n",
       "      <th>sp_attack</th>\n",
       "      <th>sp_defense</th>\n",
       "      <th>speed</th>\n",
       "      <th>type1</th>\n",
       "      <th>type2</th>\n",
       "      <th>weight_kg</th>\n",
       "      <th>generation</th>\n",
       "      <th>is_legendary</th>\n",
       "    </tr>\n",
       "    <tr>\n",
       "      <th>pokedex_number</th>\n",
       "      <th></th>\n",
       "      <th></th>\n",
       "      <th></th>\n",
       "      <th></th>\n",
       "      <th></th>\n",
       "      <th></th>\n",
       "      <th></th>\n",
       "      <th></th>\n",
       "      <th></th>\n",
       "      <th></th>\n",
       "      <th></th>\n",
       "      <th></th>\n",
       "      <th></th>\n",
       "      <th></th>\n",
       "      <th></th>\n",
       "      <th></th>\n",
       "      <th></th>\n",
       "      <th></th>\n",
       "      <th></th>\n",
       "      <th></th>\n",
       "      <th></th>\n",
       "    </tr>\n",
       "  </thead>\n",
       "  <tbody>\n",
       "    <tr>\n",
       "      <th>1</th>\n",
       "      <td>['Overgrow', 'Chlorophyll']</td>\n",
       "      <td>1.0</td>\n",
       "      <td>1.0</td>\n",
       "      <td>1.0</td>\n",
       "      <td>0.5</td>\n",
       "      <td>0.5</td>\n",
       "      <td>0.5</td>\n",
       "      <td>2.0</td>\n",
       "      <td>2.0</td>\n",
       "      <td>1.0</td>\n",
       "      <td>...</td>\n",
       "      <td>Bulbasaur</td>\n",
       "      <td>88.1</td>\n",
       "      <td>65</td>\n",
       "      <td>65</td>\n",
       "      <td>45</td>\n",
       "      <td>grass</td>\n",
       "      <td>poison</td>\n",
       "      <td>6.9</td>\n",
       "      <td>1</td>\n",
       "      <td>0</td>\n",
       "    </tr>\n",
       "    <tr>\n",
       "      <th>2</th>\n",
       "      <td>['Overgrow', 'Chlorophyll']</td>\n",
       "      <td>1.0</td>\n",
       "      <td>1.0</td>\n",
       "      <td>1.0</td>\n",
       "      <td>0.5</td>\n",
       "      <td>0.5</td>\n",
       "      <td>0.5</td>\n",
       "      <td>2.0</td>\n",
       "      <td>2.0</td>\n",
       "      <td>1.0</td>\n",
       "      <td>...</td>\n",
       "      <td>Ivysaur</td>\n",
       "      <td>88.1</td>\n",
       "      <td>80</td>\n",
       "      <td>80</td>\n",
       "      <td>60</td>\n",
       "      <td>grass</td>\n",
       "      <td>poison</td>\n",
       "      <td>13.0</td>\n",
       "      <td>1</td>\n",
       "      <td>0</td>\n",
       "    </tr>\n",
       "    <tr>\n",
       "      <th>3</th>\n",
       "      <td>['Overgrow', 'Chlorophyll']</td>\n",
       "      <td>1.0</td>\n",
       "      <td>1.0</td>\n",
       "      <td>1.0</td>\n",
       "      <td>0.5</td>\n",
       "      <td>0.5</td>\n",
       "      <td>0.5</td>\n",
       "      <td>2.0</td>\n",
       "      <td>2.0</td>\n",
       "      <td>1.0</td>\n",
       "      <td>...</td>\n",
       "      <td>Venusaur</td>\n",
       "      <td>88.1</td>\n",
       "      <td>122</td>\n",
       "      <td>120</td>\n",
       "      <td>80</td>\n",
       "      <td>grass</td>\n",
       "      <td>poison</td>\n",
       "      <td>100.0</td>\n",
       "      <td>1</td>\n",
       "      <td>0</td>\n",
       "    </tr>\n",
       "    <tr>\n",
       "      <th>4</th>\n",
       "      <td>['Blaze', 'Solar Power']</td>\n",
       "      <td>0.5</td>\n",
       "      <td>1.0</td>\n",
       "      <td>1.0</td>\n",
       "      <td>1.0</td>\n",
       "      <td>0.5</td>\n",
       "      <td>1.0</td>\n",
       "      <td>0.5</td>\n",
       "      <td>1.0</td>\n",
       "      <td>1.0</td>\n",
       "      <td>...</td>\n",
       "      <td>Charmander</td>\n",
       "      <td>88.1</td>\n",
       "      <td>60</td>\n",
       "      <td>50</td>\n",
       "      <td>65</td>\n",
       "      <td>fire</td>\n",
       "      <td>NaN</td>\n",
       "      <td>8.5</td>\n",
       "      <td>1</td>\n",
       "      <td>0</td>\n",
       "    </tr>\n",
       "    <tr>\n",
       "      <th>5</th>\n",
       "      <td>['Blaze', 'Solar Power']</td>\n",
       "      <td>0.5</td>\n",
       "      <td>1.0</td>\n",
       "      <td>1.0</td>\n",
       "      <td>1.0</td>\n",
       "      <td>0.5</td>\n",
       "      <td>1.0</td>\n",
       "      <td>0.5</td>\n",
       "      <td>1.0</td>\n",
       "      <td>1.0</td>\n",
       "      <td>...</td>\n",
       "      <td>Charmeleon</td>\n",
       "      <td>88.1</td>\n",
       "      <td>80</td>\n",
       "      <td>65</td>\n",
       "      <td>80</td>\n",
       "      <td>fire</td>\n",
       "      <td>NaN</td>\n",
       "      <td>19.0</td>\n",
       "      <td>1</td>\n",
       "      <td>0</td>\n",
       "    </tr>\n",
       "  </tbody>\n",
       "</table>\n",
       "<p>5 rows × 40 columns</p>\n",
       "</div>"
      ],
      "text/plain": [
       "                                  abilities  against_bug  against_dark  \\\n",
       "pokedex_number                                                           \n",
       "1               ['Overgrow', 'Chlorophyll']          1.0           1.0   \n",
       "2               ['Overgrow', 'Chlorophyll']          1.0           1.0   \n",
       "3               ['Overgrow', 'Chlorophyll']          1.0           1.0   \n",
       "4                  ['Blaze', 'Solar Power']          0.5           1.0   \n",
       "5                  ['Blaze', 'Solar Power']          0.5           1.0   \n",
       "\n",
       "                against_dragon  against_electric  against_fairy  \\\n",
       "pokedex_number                                                    \n",
       "1                          1.0               0.5            0.5   \n",
       "2                          1.0               0.5            0.5   \n",
       "3                          1.0               0.5            0.5   \n",
       "4                          1.0               1.0            0.5   \n",
       "5                          1.0               1.0            0.5   \n",
       "\n",
       "                against_fight  against_fire  against_flying  against_ghost  \\\n",
       "pokedex_number                                                               \n",
       "1                         0.5           2.0             2.0            1.0   \n",
       "2                         0.5           2.0             2.0            1.0   \n",
       "3                         0.5           2.0             2.0            1.0   \n",
       "4                         1.0           0.5             1.0            1.0   \n",
       "5                         1.0           0.5             1.0            1.0   \n",
       "\n",
       "                ...        name  percentage_male  sp_attack  sp_defense  \\\n",
       "pokedex_number  ...                                                       \n",
       "1               ...   Bulbasaur             88.1         65          65   \n",
       "2               ...     Ivysaur             88.1         80          80   \n",
       "3               ...    Venusaur             88.1        122         120   \n",
       "4               ...  Charmander             88.1         60          50   \n",
       "5               ...  Charmeleon             88.1         80          65   \n",
       "\n",
       "                speed  type1   type2  weight_kg  generation  is_legendary  \n",
       "pokedex_number                                                             \n",
       "1                  45  grass  poison        6.9           1             0  \n",
       "2                  60  grass  poison       13.0           1             0  \n",
       "3                  80  grass  poison      100.0           1             0  \n",
       "4                  65   fire     NaN        8.5           1             0  \n",
       "5                  80   fire     NaN       19.0           1             0  \n",
       "\n",
       "[5 rows x 40 columns]"
      ]
     },
     "execution_count": 3,
     "metadata": {},
     "output_type": "execute_result"
    }
   ],
   "source": [
    "poke.head()"
   ]
  },
  {
   "cell_type": "code",
   "execution_count": 22,
   "metadata": {},
   "outputs": [
    {
     "data": {
      "text/plain": [
       "Index(['abilities', 'against_bug', 'against_dark', 'against_dragon',\n",
       "       'against_electric', 'against_fairy', 'against_fight', 'against_fire',\n",
       "       'against_flying', 'against_ghost', 'against_grass', 'against_ground',\n",
       "       'against_ice', 'against_normal', 'against_poison', 'against_psychic',\n",
       "       'against_rock', 'against_steel', 'against_water', 'attack',\n",
       "       'base_egg_steps', 'base_happiness', 'base_total', 'capture_rate',\n",
       "       'classfication', 'defense', 'experience_growth', 'height_m', 'hp',\n",
       "       'japanese_name', 'name', 'percentage_male', 'sp_attack', 'sp_defense',\n",
       "       'speed', 'type1', 'type2', 'weight_kg', 'generation', 'is_legendary'],\n",
       "      dtype='object')"
      ]
     },
     "execution_count": 22,
     "metadata": {},
     "output_type": "execute_result"
    }
   ],
   "source": [
    "poke.columns"
   ]
  },
  {
   "cell_type": "code",
   "execution_count": 23,
   "metadata": {},
   "outputs": [],
   "source": [
    "cols = poke.columns.tolist()"
   ]
  },
  {
   "cell_type": "code",
   "execution_count": 24,
   "metadata": {
    "collapsed": true
   },
   "outputs": [
    {
     "data": {
      "text/plain": [
       "['abilities',\n",
       " 'against_bug',\n",
       " 'against_dark',\n",
       " 'against_dragon',\n",
       " 'against_electric',\n",
       " 'against_fairy',\n",
       " 'against_fight',\n",
       " 'against_fire',\n",
       " 'against_flying',\n",
       " 'against_ghost',\n",
       " 'against_grass',\n",
       " 'against_ground',\n",
       " 'against_ice',\n",
       " 'against_normal',\n",
       " 'against_poison',\n",
       " 'against_psychic',\n",
       " 'against_rock',\n",
       " 'against_steel',\n",
       " 'against_water',\n",
       " 'attack',\n",
       " 'base_egg_steps',\n",
       " 'base_happiness',\n",
       " 'base_total',\n",
       " 'capture_rate',\n",
       " 'classfication',\n",
       " 'defense',\n",
       " 'experience_growth',\n",
       " 'height_m',\n",
       " 'hp',\n",
       " 'japanese_name',\n",
       " 'name',\n",
       " 'percentage_male',\n",
       " 'sp_attack',\n",
       " 'sp_defense',\n",
       " 'speed',\n",
       " 'type1',\n",
       " 'type2',\n",
       " 'weight_kg',\n",
       " 'generation',\n",
       " 'is_legendary']"
      ]
     },
     "execution_count": 24,
     "metadata": {},
     "output_type": "execute_result"
    }
   ],
   "source": [
    "cols"
   ]
  },
  {
   "cell_type": "code",
   "execution_count": 35,
   "metadata": {},
   "outputs": [],
   "source": [
    "reordered_cols = cols[30:31] + cols[0:1] + cols[37:38] + cols[27:28] + cols[35:37] + cols[38:40] + cols[28:29] + cols[19:20] + cols[25:26] + cols[32:35] + cols[22:25] + cols[1:19]\n",
    "\n"
   ]
  },
  {
   "cell_type": "code",
   "execution_count": 36,
   "metadata": {},
   "outputs": [],
   "source": [
    "poke = poke[reordered_cols]"
   ]
  },
  {
   "cell_type": "code",
   "execution_count": 46,
   "metadata": {},
   "outputs": [
    {
     "data": {
      "text/plain": [
       "Index(['name', 'abilities', 'weight_kg', 'height_m', 'type1', 'type2',\n",
       "       'generation', 'is_legendary', 'hp', 'attack', 'defense', 'sp_attack',\n",
       "       'sp_defense', 'speed', 'base_total', 'capture_rate', 'classfication',\n",
       "       'against_bug', 'against_dark', 'against_dragon', 'against_electric',\n",
       "       'against_fairy', 'against_fight', 'against_fire', 'against_flying',\n",
       "       'against_ghost', 'against_grass', 'against_ground', 'against_ice',\n",
       "       'against_normal', 'against_poison', 'against_psychic', 'against_rock',\n",
       "       'against_steel', 'against_water'],\n",
       "      dtype='object')"
      ]
     },
     "execution_count": 46,
     "metadata": {},
     "output_type": "execute_result"
    }
   ],
   "source": [
    "poke.columns"
   ]
  },
  {
   "cell_type": "code",
   "execution_count": 40,
   "metadata": {
    "scrolled": true
   },
   "outputs": [
    {
     "data": {
      "text/plain": [
       "<matplotlib.axes._subplots.AxesSubplot at 0x7fd507852290>"
      ]
     },
     "execution_count": 40,
     "metadata": {},
     "output_type": "execute_result"
    },
    {
     "data": {
      "image/png": "[encoded data removed]",
      "text/plain": [
       "<Figure size 432x288 with 1 Axes>"
      ]
     },
     "metadata": {
      "needs_background": "light"
     },
     "output_type": "display_data"
    }
   ],
   "source": [
    "poke.plot.scatter(x = 'weight_kg', y = 'base_total')"
   ]
  },
  {
   "cell_type": "code",
   "execution_count": 55,
   "metadata": {},
   "outputs": [
    {
     "data": {
      "text/html": [
       "<div>\n",
       "<style scoped>\n",
       "    .dataframe tbody tr th:only-of-type {\n",
       "        vertical-align: middle;\n",
       "    }\n",
       "\n",
       "    .dataframe tbody tr th {\n",
       "        vertical-align: top;\n",
       "    }\n",
       "\n",
       "    .dataframe thead th {\n",
       "        text-align: right;\n",
       "    }\n",
       "</style>\n",
       "<table border=\"1\" class=\"dataframe\">\n",
       "  <thead>\n",
       "    <tr style=\"text-align: right;\">\n",
       "      <th></th>\n",
       "      <th>weight_kg</th>\n",
       "      <th>height_m</th>\n",
       "      <th>generation</th>\n",
       "      <th>is_legendary</th>\n",
       "      <th>hp</th>\n",
       "      <th>attack</th>\n",
       "      <th>defense</th>\n",
       "      <th>sp_attack</th>\n",
       "      <th>sp_defense</th>\n",
       "      <th>speed</th>\n",
       "      <th>base_total</th>\n",
       "    </tr>\n",
       "  </thead>\n",
       "  <tbody>\n",
       "    <tr>\n",
       "      <th>weight_kg</th>\n",
       "      <td>1.000000</td>\n",
       "      <td>0.626551</td>\n",
       "      <td>0.085767</td>\n",
       "      <td>0.393023</td>\n",
       "      <td>0.427743</td>\n",
       "      <td>0.382183</td>\n",
       "      <td>0.424067</td>\n",
       "      <td>0.245218</td>\n",
       "      <td>0.306523</td>\n",
       "      <td>0.051384</td>\n",
       "      <td>0.458111</td>\n",
       "    </tr>\n",
       "    <tr>\n",
       "      <th>height_m</th>\n",
       "      <td>0.626551</td>\n",
       "      <td>1.000000</td>\n",
       "      <td>-0.025525</td>\n",
       "      <td>0.322155</td>\n",
       "      <td>0.478369</td>\n",
       "      <td>0.423160</td>\n",
       "      <td>0.361938</td>\n",
       "      <td>0.353007</td>\n",
       "      <td>0.328327</td>\n",
       "      <td>0.202202</td>\n",
       "      <td>0.535063</td>\n",
       "    </tr>\n",
       "    <tr>\n",
       "      <th>generation</th>\n",
       "      <td>0.085767</td>\n",
       "      <td>-0.025525</td>\n",
       "      <td>1.000000</td>\n",
       "      <td>0.139029</td>\n",
       "      <td>0.074065</td>\n",
       "      <td>0.101375</td>\n",
       "      <td>0.057603</td>\n",
       "      <td>0.070146</td>\n",
       "      <td>0.048711</td>\n",
       "      <td>-0.019914</td>\n",
       "      <td>0.084358</td>\n",
       "    </tr>\n",
       "    <tr>\n",
       "      <th>is_legendary</th>\n",
       "      <td>0.393023</td>\n",
       "      <td>0.322155</td>\n",
       "      <td>0.139029</td>\n",
       "      <td>1.000000</td>\n",
       "      <td>0.308405</td>\n",
       "      <td>0.303295</td>\n",
       "      <td>0.265587</td>\n",
       "      <td>0.406281</td>\n",
       "      <td>0.343241</td>\n",
       "      <td>0.311639</td>\n",
       "      <td>0.485440</td>\n",
       "    </tr>\n",
       "    <tr>\n",
       "      <th>hp</th>\n",
       "      <td>0.427743</td>\n",
       "      <td>0.478369</td>\n",
       "      <td>0.074065</td>\n",
       "      <td>0.308405</td>\n",
       "      <td>1.000000</td>\n",
       "      <td>0.410616</td>\n",
       "      <td>0.242378</td>\n",
       "      <td>0.365973</td>\n",
       "      <td>0.366971</td>\n",
       "      <td>0.160760</td>\n",
       "      <td>0.620624</td>\n",
       "    </tr>\n",
       "    <tr>\n",
       "      <th>attack</th>\n",
       "      <td>0.382183</td>\n",
       "      <td>0.423160</td>\n",
       "      <td>0.101375</td>\n",
       "      <td>0.303295</td>\n",
       "      <td>0.410616</td>\n",
       "      <td>1.000000</td>\n",
       "      <td>0.468915</td>\n",
       "      <td>0.368154</td>\n",
       "      <td>0.265836</td>\n",
       "      <td>0.352703</td>\n",
       "      <td>0.730134</td>\n",
       "    </tr>\n",
       "    <tr>\n",
       "      <th>defense</th>\n",
       "      <td>0.424067</td>\n",
       "      <td>0.361938</td>\n",
       "      <td>0.057603</td>\n",
       "      <td>0.265587</td>\n",
       "      <td>0.242378</td>\n",
       "      <td>0.468915</td>\n",
       "      <td>1.000000</td>\n",
       "      <td>0.241882</td>\n",
       "      <td>0.526348</td>\n",
       "      <td>0.007934</td>\n",
       "      <td>0.629620</td>\n",
       "    </tr>\n",
       "    <tr>\n",
       "      <th>sp_attack</th>\n",
       "      <td>0.245218</td>\n",
       "      <td>0.353007</td>\n",
       "      <td>0.070146</td>\n",
       "      <td>0.406281</td>\n",
       "      <td>0.365973</td>\n",
       "      <td>0.368154</td>\n",
       "      <td>0.241882</td>\n",
       "      <td>1.000000</td>\n",
       "      <td>0.511496</td>\n",
       "      <td>0.438981</td>\n",
       "      <td>0.741120</td>\n",
       "    </tr>\n",
       "    <tr>\n",
       "      <th>sp_defense</th>\n",
       "      <td>0.306523</td>\n",
       "      <td>0.328327</td>\n",
       "      <td>0.048711</td>\n",
       "      <td>0.343241</td>\n",
       "      <td>0.366971</td>\n",
       "      <td>0.265836</td>\n",
       "      <td>0.526348</td>\n",
       "      <td>0.511496</td>\n",
       "      <td>1.000000</td>\n",
       "      <td>0.225977</td>\n",
       "      <td>0.717434</td>\n",
       "    </tr>\n",
       "    <tr>\n",
       "      <th>speed</th>\n",
       "      <td>0.051384</td>\n",
       "      <td>0.202202</td>\n",
       "      <td>-0.019914</td>\n",
       "      <td>0.311639</td>\n",
       "      <td>0.160760</td>\n",
       "      <td>0.352703</td>\n",
       "      <td>0.007934</td>\n",
       "      <td>0.438981</td>\n",
       "      <td>0.225977</td>\n",
       "      <td>1.000000</td>\n",
       "      <td>0.547666</td>\n",
       "    </tr>\n",
       "    <tr>\n",
       "      <th>base_total</th>\n",
       "      <td>0.458111</td>\n",
       "      <td>0.535063</td>\n",
       "      <td>0.084358</td>\n",
       "      <td>0.485440</td>\n",
       "      <td>0.620624</td>\n",
       "      <td>0.730134</td>\n",
       "      <td>0.629620</td>\n",
       "      <td>0.741120</td>\n",
       "      <td>0.717434</td>\n",
       "      <td>0.547666</td>\n",
       "      <td>1.000000</td>\n",
       "    </tr>\n",
       "  </tbody>\n",
       "</table>\n",
       "</div>"
      ],
      "text/plain": [
       "              weight_kg  height_m  generation  is_legendary        hp  \\\n",
       "weight_kg      1.000000  0.626551    0.085767      0.393023  0.427743   \n",
       "height_m       0.626551  1.000000   -0.025525      0.322155  0.478369   \n",
       "generation     0.085767 -0.025525    1.000000      0.139029  0.074065   \n",
       "is_legendary   0.393023  0.322155    0.139029      1.000000  0.308405   \n",
       "hp             0.427743  0.478369    0.074065      0.308405  1.000000   \n",
       "attack         0.382183  0.423160    0.101375      0.303295  0.410616   \n",
       "defense        0.424067  0.361938    0.057603      0.265587  0.242378   \n",
       "sp_attack      0.245218  0.353007    0.070146      0.406281  0.365973   \n",
       "sp_defense     0.306523  0.328327    0.048711      0.343241  0.366971   \n",
       "speed          0.051384  0.202202   -0.019914      0.311639  0.160760   \n",
       "base_total     0.458111  0.535063    0.084358      0.485440  0.620624   \n",
       "\n",
       "                attack   defense  sp_attack  sp_defense     speed  base_total  \n",
       "weight_kg     0.382183  0.424067   0.245218    0.306523  0.051384    0.458111  \n",
       "height_m      0.423160  0.361938   0.353007    0.328327  0.202202    0.535063  \n",
       "generation    0.101375  0.057603   0.070146    0.048711 -0.019914    0.084358  \n",
       "is_legendary  0.303295  0.265587   0.406281    0.343241  0.311639    0.485440  \n",
       "hp            0.410616  0.242378   0.365973    0.366971  0.160760    0.620624  \n",
       "attack        1.000000  0.468915   0.368154    0.265836  0.352703    0.730134  \n",
       "defense       0.468915  1.000000   0.241882    0.526348  0.007934    0.629620  \n",
       "sp_attack     0.368154  0.241882   1.000000    0.511496  0.438981    0.741120  \n",
       "sp_defense    0.265836  0.526348   0.511496    1.000000  0.225977    0.717434  \n",
       "speed         0.352703  0.007934   0.438981    0.225977  1.000000    0.547666  \n",
       "base_total    0.730134  0.629620   0.741120    0.717434  0.547666    1.000000  "
      ]
     },
     "execution_count": 55,
     "metadata": {},
     "output_type": "execute_result"
    }
   ],
   "source": [
    "poke[poke.columns[0:15]].corr(method = 'pearson')"
   ]
  },
  {
   "cell_type": "code",
   "execution_count": 56,
   "metadata": {},
   "outputs": [
    {
     "data": {
      "text/plain": [
       "<matplotlib.axes._subplots.AxesSubplot at 0x7fd509671910>"
      ]
     },
     "execution_count": 56,
     "metadata": {},
     "output_type": "execute_result"
    },
    {
     "data": {
      "image/png": "[encoded data removed]",
      "text/plain": [
       "<Figure size 432x288 with 1 Axes>"
      ]
     },
     "metadata": {
      "needs_background": "light"
     },
     "output_type": "display_data"
    }
   ],
   "source": [
    "poke.plot.scatter(x = 'height_m', y = 'base_total')"
   ]
  },
  {
   "cell_type": "code",
   "execution_count": 61,
   "metadata": {},
   "outputs": [
    {
     "data": {
      "text/plain": [
       "pokedex_number\n",
       "16    251\n",
       "Name: base_total, dtype: int64"
      ]
     },
     "execution_count": 61,
     "metadata": {},
     "output_type": "execute_result"
    }
   ],
   "source": [
    "poke[poke.name == 'Pidgey'].base_total"
   ]
  },
  {
   "cell_type": "markdown",
   "metadata": {},
   "source": [
    "After some visualizations and correlations i found that the most valuable statistic when it comes to strength of a pokemon (total stats) is their height. At first I was surprised but when i dove more into it i realized that a big reason for this may be due to the fact that there are many pokemon who have multiple evolutions in their pokemon line. These pokemon are generally much smaller and weaker. Now this doesnt affect the data per say but because they are all in the same evoltion line as other pokemon id rather try to find more accurate stats that can maybe take those into account. So now i have to figure out a good way to avoid this especially for pokemon with 2 higher level evolutions"
   ]
  },
  {
   "cell_type": "code",
   "execution_count": null,
   "metadata": {},
   "outputs": [],
   "source": []
  },
  {
   "cell_type": "code",
   "execution_count": null,
   "metadata": {},
   "outputs": [],
   "source": []
  },
  {
   "cell_type": "code",
   "execution_count": null,
   "metadata": {},
   "outputs": [],
   "source": []
  }
 ],
 "metadata": {
  "kernelspec": {
   "display_name": "Python 3",
   "language": "python",
   "name": "python3"
  },
  "language_info": {
   "codemirror_mode": {
    "name": "ipython",
    "version": 3
   },
   "file_extension": ".py",
   "mimetype": "text/x-python",
   "name": "python",
   "nbconvert_exporter": "python",
   "pygments_lexer": "ipython3",
   "version": "3.7.6"
  }
 },
 "nbformat": 4,
 "nbformat_minor": 4
}
